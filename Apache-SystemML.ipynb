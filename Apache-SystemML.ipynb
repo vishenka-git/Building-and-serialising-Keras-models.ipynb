{
    "nbformat_minor": 1, 
    "cells": [
        {
            "source": "# Assignment 4\n## Understaning scaling of linear algebra operations on Apache Spark using Apache SystemML\n\nIn this assignment we want you to understand how to scale linear algebra operations from a single machine to multiple machines, memory and CPU cores using Apache SystemML. Therefore we want you to understand how to migrate from a numpy program to a SystemML DML program. Don't worry. We will give you a lot of hints. Finally, you won't need this knowledge anyways if you are sticking to Keras only, but once you go beyond that point you'll be happy to see what's going on behind the scenes. Please make sure you run this notebook from an Apache Spark 2.3 notebook.\n\nSo the first thing we need to ensure is that we are on the latest version of SystemML, which is 1.2.0:\n\nThe steps are:\n- pip install\n- link the jars to the correct location\n- restart the kernel\n- start execution at the cell with the version - check", 
            "cell_type": "markdown", 
            "metadata": {}
        }, 
        {
            "source": "!pip install systemml", 
            "cell_type": "code", 
            "execution_count": null, 
            "outputs": [], 
            "metadata": {}
        }, 
        {
            "source": "Now we need to create two sym links that the newest version is picket up - this is a workaround and will be removed soon", 
            "cell_type": "markdown", 
            "metadata": {}
        }, 
        {
            "source": "!ln -s -f ~/user-libs/python3.6/systemml/systemml-java/systemml-1.2.0-extra.jar ~/user-libs/spark2/systemml-1.2.0-extra.jar\n!ln -s -f ~/user-libs/python3.6/systemml/systemml-java/systemml-1.2.0.jar ~/user-libs/spark2/systemml-1.2.0.jar", 
            "cell_type": "code", 
            "execution_count": null, 
            "outputs": [], 
            "metadata": {}
        }, 
        {
            "source": "!find / -name  systemml-1.2.0-extra.jar", 
            "cell_type": "code", 
            "execution_count": null, 
            "outputs": [], 
            "metadata": {}
        }, 
        {
            "source": "Now please restart the kernel and make sure the version is correct", 
            "cell_type": "markdown", 
            "metadata": {}
        }, 
        {
            "source": "from systemml import MLContext\nml = MLContext(spark)\nprint(ml.version())\n    \nif not ml.version() == '1.2.0':\n    raise ValueError('please upgrade to SystemML 1.2.0, or restart your Kernel (Kernel->Restart & Clear Output)')", 
            "cell_type": "code", 
            "execution_count": 1, 
            "outputs": [
                {
                    "output_type": "stream", 
                    "name": "stdout", 
                    "text": "Waiting for a Spark session to start...\nSpark Initialization Done! ApplicationId = app-20191015102353-0001\nKERNEL_ID = 815565e8-17db-468a-9f6d-b814cd9ca7d8\n1.2.0\n"
                }
            ], 
            "metadata": {}
        }, 
        {
            "source": "Congratulations, if you see version 1.2.0, please continue with the notebook...", 
            "cell_type": "markdown", 
            "metadata": {}
        }, 
        {
            "source": "from systemml import MLContext, dml\nimport numpy as np\nimport time", 
            "cell_type": "code", 
            "execution_count": 2, 
            "outputs": [], 
            "metadata": {}
        }, 
        {
            "source": "Then we create an MLContext to interface with Apache SystemML. Note that we pass a SparkSession object as parameter so SystemML now knows how to talk to the Apache Spark cluster", 
            "cell_type": "markdown", 
            "metadata": {}
        }, 
        {
            "source": "ml = MLContext(spark)", 
            "cell_type": "code", 
            "execution_count": 3, 
            "outputs": [], 
            "metadata": {}
        }, 
        {
            "source": "Now we create some large random matrices to have numpy and SystemML crunch on it", 
            "cell_type": "markdown", 
            "metadata": {}
        }, 
        {
            "source": "u = np.random.rand(1000,10000)\ns = np.random.rand(10000,1000)\nw = np.random.rand(1000,1000)", 
            "cell_type": "code", 
            "execution_count": 4, 
            "outputs": [], 
            "metadata": {}
        }, 
        {
            "source": "Now we implement a short one-liner to define a very simple linear algebra operation\n\nIn case you are unfamiliar with matrxi-matrix multiplication: https://en.wikipedia.org/wiki/Matrix_multiplication\n\nsum(U' * (W . (U * S)))\n\n\n| Legend        |            |   \n| ------------- |-------------| \n| '      | transpose of a matrix | \n| * | matrix-matrix multiplication      |  \n| . | scalar multiplication      |   \n\n", 
            "cell_type": "markdown", 
            "metadata": {}
        }, 
        {
            "source": "start = time.time()\nres = np.sum(u.T.dot(w * u.dot(s)))\nprint (time.time()-start)", 
            "cell_type": "code", 
            "execution_count": 5, 
            "outputs": [
                {
                    "output_type": "stream", 
                    "name": "stdout", 
                    "text": "1.4346394538879395\n"
                }
            ], 
            "metadata": {}
        }, 
        {
            "source": "As you can see this executes perfectly fine. Note that this is even a very efficient execution because numpy uses a C/C++ backend which is known for it's performance. But what happens if U, S or W get such big that the available main memory cannot cope with it? Let's give it a try:", 
            "cell_type": "markdown", 
            "metadata": {}
        }, 
        {
            "source": "#u = np.random.rand(10000,100000)\n#s = np.random.rand(100000,10000)\n#w = np.random.rand(10000,10000)", 
            "cell_type": "code", 
            "execution_count": null, 
            "outputs": [], 
            "metadata": {}
        }, 
        {
            "source": "After a short while you should see a memory error. This is because the operating system process was not able to allocate enough memory for storing the numpy array on the heap. Now it's time to re-implement the very same operations as DML in SystemML, and this is your task. Just replace all ###your_code_goes_here sections with proper code, please consider the following table which contains all DML syntax you need:\n\n| Syntax        |            |   \n| ------------- |-------------| \n| t(M)      | transpose of a matrix, where M is the matrix | \n| %*% | matrix-matrix multiplication      |  \n| * | scalar multiplication      |   \n\n## Task", 
            "cell_type": "markdown", 
            "metadata": {}
        }, 
        {
            "source": "In order to show you the advantage of SystemML over numpy we've blown up the sizes of the matrices. Unfortunately, on a 1-2 worker Spark cluster it takes quite some time to complete. Therefore we've stripped down the example to smaller matrices below, but we've kept the code, just in case you are curious to check it out. But you might want to use some more workers which you easily can configure in the environment settings of the project within Watson Studio. Just be aware that you're currently limited to free 50 capacity unit hours per month wich are consumed by the additional workers.", 
            "cell_type": "markdown", 
            "metadata": {}
        }, 
        {
            "source": "script = \"\"\"\nU = rand(rows=1000,cols=10000, seed=5)\nS = rand(rows=10000,cols=1000, seed=23)\nW = rand(rows=1000,cols=1000, seed=42)\nres = sum(t(U) %*% (W * (U %*% S)))\n\"\"\"", 
            "cell_type": "code", 
            "execution_count": 6, 
            "outputs": [], 
            "metadata": {}
        }, 
        {
            "source": "To get consistent results we switch from a random matrix initialization to something deterministic", 
            "cell_type": "markdown", 
            "metadata": {}
        }, 
        {
            "source": "prog = dml(script).output('res')\nres = ml.execute(prog).get('res')\nprint(res)", 
            "cell_type": "code", 
            "execution_count": 7, 
            "outputs": [
                {
                    "output_type": "stream", 
                    "name": "stdout", 
                    "text": "SystemML Statistics:\nTotal execution time:\t\t5.170 sec.\nNumber of executed Spark inst:\t0.\n\n\n6252492444241.075\n"
                }
            ], 
            "metadata": {}
        }, 
        {
            "source": "If everything runs fine you should get *6252492444241.075* as result (or something in that bullpark). Feel free to submit your DML script to the grader now!\n\n### Submission", 
            "cell_type": "markdown", 
            "metadata": {}
        }, 
        {
            "source": "!rm -f rklib.py\n!wget https://raw.githubusercontent.com/romeokienzler/developerWorks/master/coursera/ai/rklib.py", 
            "cell_type": "code", 
            "execution_count": 8, 
            "outputs": [
                {
                    "output_type": "stream", 
                    "name": "stdout", 
                    "text": "--2019-10-15 10:26:25--  https://raw.githubusercontent.com/romeokienzler/developerWorks/master/coursera/ai/rklib.py\nResolving raw.githubusercontent.com (raw.githubusercontent.com)... 151.101.60.133\nConnecting to raw.githubusercontent.com (raw.githubusercontent.com)|151.101.60.133|:443... connected.\nHTTP request sent, awaiting response... 200 OK\nLength: 2289 (2.2K) [text/plain]\nSaving to: 'rklib.py'\n\n100%[======================================>] 2,289       --.-K/s   in 0s      \n\n2019-10-15 10:26:25 (34.5 MB/s) - 'rklib.py' saved [2289/2289]\n\n"
                }
            ], 
            "metadata": {}
        }, 
        {
            "source": "from rklib import submit\nkey = \"esRk7vn-Eeej-BLTuYzd0g\"\n\n\nemail = \"sbisenbaeva@edu.hse.ru\"", 
            "cell_type": "code", 
            "execution_count": 9, 
            "outputs": [], 
            "metadata": {}
        }, 
        {
            "source": "part = \"fUxc8\"\ntoken = \"BzJTweJkRDEUig8J\" #you can obtain it from the grader page on Coursera\nsubmit(email, token, key, part, [part], script)", 
            "cell_type": "code", 
            "execution_count": 10, 
            "outputs": [
                {
                    "output_type": "stream", 
                    "name": "stdout", 
                    "text": "Submission successful, please check on the coursera grader page for the status\n-------------------------\n{\"elements\":[{\"itemId\":\"P1p3F\",\"id\":\"tE4j0qhMEeecqgpT6QjMdA~P1p3F~WoSPLe82Eem5FBKDwt-VWg\",\"courseId\":\"tE4j0qhMEeecqgpT6QjMdA\"}],\"paging\":{},\"linked\":{}}\n-------------------------\n"
                }
            ], 
            "metadata": {}
        }
    ], 
    "nbformat": 4, 
    "metadata": {
        "kernelspec": {
            "display_name": "Python 3.6 with Spark", 
            "name": "python36", 
            "language": "python3"
        }, 
        "language_info": {
            "mimetype": "text/x-python", 
            "nbconvert_exporter": "python", 
            "version": "3.6.8", 
            "name": "python", 
            "pygments_lexer": "ipython3", 
            "file_extension": ".py", 
            "codemirror_mode": {
                "version": 3, 
                "name": "ipython"
            }
        }
    }
}